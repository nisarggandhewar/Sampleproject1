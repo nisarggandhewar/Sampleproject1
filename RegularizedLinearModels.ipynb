{
 "cells": [
  {
   "cell_type": "code",
   "execution_count": 10,
   "metadata": {
    "tags": []
   },
   "outputs": [
    {
     "name": "stdout",
     "output_type": "stream",
     "text": [
      "Defaulting to user installation because normal site-packages is not writeable\n",
      "Requirement already satisfied: mglearn in /home/labsuser/.local/lib/python3.7/site-packages (0.1.9)\n",
      "Requirement already satisfied: numpy in /usr/local/lib/python3.7/site-packages (from mglearn) (1.21.5)\n",
      "Requirement already satisfied: scikit-learn in /usr/local/lib/python3.7/site-packages (from mglearn) (1.0.2)\n",
      "Requirement already satisfied: matplotlib in /usr/local/lib/python3.7/site-packages (from mglearn) (3.5.1)\n",
      "Requirement already satisfied: joblib in /usr/local/lib/python3.7/site-packages (from mglearn) (0.14.1)\n",
      "Requirement already satisfied: pillow in /usr/local/lib/python3.7/site-packages (from mglearn) (7.1.1)\n",
      "Requirement already satisfied: pandas in /usr/local/lib/python3.7/site-packages (from mglearn) (1.1.5)\n",
      "Requirement already satisfied: cycler in /usr/local/lib/python3.7/site-packages (from mglearn) (0.10.0)\n",
      "Requirement already satisfied: imageio in /usr/local/lib/python3.7/site-packages (from mglearn) (2.8.0)\n",
      "Requirement already satisfied: six in /usr/local/lib/python3.7/site-packages (from cycler->mglearn) (1.14.0)\n",
      "Requirement already satisfied: kiwisolver>=1.0.1 in /usr/local/lib/python3.7/site-packages (from matplotlib->mglearn) (1.2.0)\n",
      "Requirement already satisfied: pyparsing>=2.2.1 in /usr/local/lib/python3.7/site-packages (from matplotlib->mglearn) (2.4.6)\n",
      "Requirement already satisfied: fonttools>=4.22.0 in /usr/local/lib/python3.7/site-packages (from matplotlib->mglearn) (4.28.5)\n",
      "Requirement already satisfied: python-dateutil>=2.7 in /usr/local/lib/python3.7/site-packages (from matplotlib->mglearn) (2.8.1)\n",
      "Requirement already satisfied: packaging>=20.0 in /usr/local/lib/python3.7/site-packages (from matplotlib->mglearn) (21.0)\n",
      "Requirement already satisfied: pytz>=2017.2 in /usr/local/lib/python3.7/site-packages (from pandas->mglearn) (2019.3)\n",
      "Requirement already satisfied: threadpoolctl>=2.0.0 in /usr/local/lib/python3.7/site-packages (from scikit-learn->mglearn) (2.2.0)\n",
      "Requirement already satisfied: scipy>=1.1.0 in /usr/local/lib/python3.7/site-packages (from scikit-learn->mglearn) (1.4.1)\n",
      "\u001b[33mWARNING: You are using pip version 22.0.3; however, version 23.0 is available.\n",
      "You should consider upgrading via the '/usr/local/bin/python3 -m pip install --upgrade pip' command.\u001b[0m\u001b[33m\n",
      "\u001b[0m"
     ]
    }
   ],
   "source": [
    "# Run this command if you dont have mglearn installed. After running restart your kernel\n",
    "!pip install mglearn"
   ]
  },
  {
   "cell_type": "code",
   "execution_count": 49,
   "metadata": {},
   "outputs": [],
   "source": [
    "import mglearn\n",
    "import numpy as np\n",
    "import matplotlib.pyplot as plt"
   ]
  },
  {
   "cell_type": "code",
   "execution_count": 12,
   "metadata": {},
   "outputs": [],
   "source": [
    "from sklearn.metrics import mean_absolute_error, mean_squared_error"
   ]
  },
  {
   "cell_type": "code",
   "execution_count": 13,
   "metadata": {},
   "outputs": [],
   "source": [
    "from sklearn.model_selection import train_test_split\n",
    "from sklearn.linear_model import LinearRegression"
   ]
  },
  {
   "cell_type": "code",
   "execution_count": 47,
   "metadata": {
    "tags": []
   },
   "outputs": [
    {
     "name": "stderr",
     "output_type": "stream",
     "text": [
      "/usr/local/lib/python3.7/site-packages/sklearn/utils/deprecation.py:87: FutureWarning: Function load_boston is deprecated; `load_boston` is deprecated in 1.0 and will be removed in 1.2.\n",
      "\n",
      "    The Boston housing prices dataset has an ethical problem. You can refer to\n",
      "    the documentation of this function for further details.\n",
      "\n",
      "    The scikit-learn maintainers therefore strongly discourage the use of this\n",
      "    dataset unless the purpose of the code is to study and educate about\n",
      "    ethical issues in data science and machine learning.\n",
      "\n",
      "    In this special case, you can fetch the dataset from the original\n",
      "    source::\n",
      "\n",
      "        import pandas as pd\n",
      "        import numpy as np\n",
      "\n",
      "\n",
      "        data_url = \"http://lib.stat.cmu.edu/datasets/boston\"\n",
      "        raw_df = pd.read_csv(data_url, sep=\"\\s+\", skiprows=22, header=None)\n",
      "        data = np.hstack([raw_df.values[::2, :], raw_df.values[1::2, :2]])\n",
      "        target = raw_df.values[1::2, 2]\n",
      "\n",
      "    Alternative datasets include the California housing dataset (i.e.\n",
      "    :func:`~sklearn.datasets.fetch_california_housing`) and the Ames housing\n",
      "    dataset. You can load the datasets as follows::\n",
      "\n",
      "        from sklearn.datasets import fetch_california_housing\n",
      "        housing = fetch_california_housing()\n",
      "\n",
      "    for the California housing dataset and::\n",
      "\n",
      "        from sklearn.datasets import fetch_openml\n",
      "        housing = fetch_openml(name=\"house_prices\", as_frame=True)\n",
      "\n",
      "    for the Ames housing dataset.\n",
      "    \n",
      "  warnings.warn(msg, category=FutureWarning)\n"
     ]
    }
   ],
   "source": [
    "X,y = mglearn.datasets.load_extended_boston()\n",
    "X_train, X_test, y_train, y_test = train_test_split(X,y,random_state=0)\n"
   ]
  },
  {
   "cell_type": "code",
   "execution_count": 48,
   "metadata": {},
   "outputs": [
    {
     "data": {
      "text/plain": [
       "array([2.07946779e-03, 2.20000000e-01, 1.97947214e-01, 0.00000000e+00,\n",
       "       9.46502058e-02, 3.91645909e-01, 6.93099897e-01, 6.20656731e-01,\n",
       "       2.60869565e-01, 2.72900763e-01, 6.91489362e-01, 9.80407484e-01,\n",
       "       4.61644592e-01, 4.32418630e-06, 4.57482914e-04, 4.11624856e-04,\n",
       "       0.00000000e+00, 1.96822054e-04, 8.14415054e-04, 1.44127891e-03,\n",
       "       1.29063568e-03, 5.42469859e-04, 5.67488348e-04, 1.43792986e-03,\n",
       "       2.03872579e-03, 9.59975060e-04, 4.84000000e-02, 4.35483871e-02,\n",
       "       0.00000000e+00, 2.08230453e-02, 8.61621000e-02, 1.52481977e-01,\n",
       "       1.36544481e-01, 5.73913043e-02, 6.00381679e-02, 1.52127660e-01,\n",
       "       2.15689646e-01, 1.01561810e-01, 3.91830996e-02, 0.00000000e+00,\n",
       "       1.87357445e-02, 7.75252166e-02, 1.37197194e-01, 1.22857271e-01,\n",
       "       5.16384037e-02, 5.40199458e-02, 1.36878393e-01, 1.94068930e-01,\n",
       "       9.13812608e-02, 0.00000000e+00, 0.00000000e+00, 0.00000000e+00,\n",
       "       0.00000000e+00, 0.00000000e+00, 0.00000000e+00, 0.00000000e+00,\n",
       "       0.00000000e+00, 0.00000000e+00, 0.00000000e+00, 8.95866145e-03,\n",
       "       3.70693659e-02, 6.56020479e-02, 5.87452873e-02, 2.46913580e-02,\n",
       "       2.58301134e-02, 6.54496104e-02, 9.27957701e-02, 4.36947556e-02,\n",
       "       1.53386518e-01, 2.71449739e-01, 2.43077670e-01, 1.02168498e-01,\n",
       "       1.06880468e-01, 2.70818980e-01, 3.83972580e-01, 1.80801216e-01,\n",
       "       4.80387467e-01, 4.30177116e-01, 1.80808669e-01, 1.89147491e-01,\n",
       "       4.79271205e-01, 6.79520326e-01, 3.19965819e-01, 3.85214777e-01,\n",
       "       1.61910451e-01, 1.69377696e-01, 4.29177526e-01, 6.08496504e-01,\n",
       "       2.86522823e-01, 6.80529301e-02, 7.11915035e-02, 1.80388529e-01,\n",
       "       2.55758474e-01, 1.20429024e-01, 7.44748266e-02, 1.88707975e-01,\n",
       "       2.67553951e-01, 1.25983161e-01, 4.78157537e-01, 6.77941345e-01,\n",
       "       3.19222324e-01, 9.61198835e-01, 4.52599813e-01, 2.13115729e-01])"
      ]
     },
     "execution_count": 48,
     "metadata": {},
     "output_type": "execute_result"
    }
   ],
   "source": [
    "X_train[0]"
   ]
  },
  {
   "cell_type": "code",
   "execution_count": 18,
   "metadata": {},
   "outputs": [
    {
     "data": {
      "text/plain": [
       "(379, 104)"
      ]
     },
     "execution_count": 18,
     "metadata": {},
     "output_type": "execute_result"
    }
   ],
   "source": [
    "X_train.shape"
   ]
  },
  {
   "cell_type": "code",
   "execution_count": 19,
   "metadata": {},
   "outputs": [
    {
     "data": {
      "text/plain": [
       "(127,)"
      ]
     },
     "execution_count": 19,
     "metadata": {},
     "output_type": "execute_result"
    }
   ],
   "source": [
    "y_test.shape"
   ]
  },
  {
   "cell_type": "code",
   "execution_count": 50,
   "metadata": {},
   "outputs": [
    {
     "data": {
      "text/plain": [
       "506"
      ]
     },
     "execution_count": 50,
     "metadata": {},
     "output_type": "execute_result"
    }
   ],
   "source": [
    "379+127"
   ]
  },
  {
   "cell_type": "markdown",
   "metadata": {},
   "source": [
    "#### Linear Regression"
   ]
  },
  {
   "cell_type": "code",
   "execution_count": 20,
   "metadata": {},
   "outputs": [],
   "source": [
    "my_linear_reg = LinearRegression().fit(X_train, y_train)"
   ]
  },
  {
   "cell_type": "code",
   "execution_count": 21,
   "metadata": {},
   "outputs": [
    {
     "name": "stdout",
     "output_type": "stream",
     "text": [
      "TRAIN DATA RESULTS\n",
      "Mean Absolute Error on Train data :  1.5674141791450238\n",
      "Mean Squared Error on Train data :  4.090362612543772\n",
      "Training Set R squared score :  0.9520519609032729\n",
      "\n",
      "TEST DATA RESULTS\n",
      "Mean Absolute Error on Test data :  3.2258952120186133\n",
      "Mean Squared Error on Test data :  32.06913512158133\n",
      "Test Set R squared score :  0.6074721959665972\n"
     ]
    }
   ],
   "source": [
    "my_preds_train = my_linear_reg.predict(X_train)\n",
    "my_preds_test = my_linear_reg.predict(X_test)\n",
    "\n",
    "print('TRAIN DATA RESULTS')\n",
    "print(\"Mean Absolute Error on Train data : \", mean_absolute_error(y_train, my_preds_train))\n",
    "print(\"Mean Squared Error on Train data : \", mean_squared_error(y_train, my_preds_train))\n",
    "print('Training Set R squared score : ', my_linear_reg.score(X_train, y_train))\n",
    "\n",
    "print('\\nTEST DATA RESULTS')\n",
    "print(\"Mean Absolute Error on Test data : \", mean_absolute_error(y_test, my_preds_test))\n",
    "print(\"Mean Squared Error on Test data : \", mean_squared_error(y_test, my_preds_test))\n",
    "print('Test Set R squared score : ', my_linear_reg.score(X_test, y_test))"
   ]
  },
  {
   "cell_type": "code",
   "execution_count": 22,
   "metadata": {},
   "outputs": [
    {
     "data": {
      "text/plain": [
       "<matplotlib.legend.Legend at 0x7f2d95716910>"
      ]
     },
     "execution_count": 22,
     "metadata": {},
     "output_type": "execute_result"
    },
    {
     "data": {
      "image/png": "[encoded data removed]",
      "text/plain": [
       "<Figure size 432x288 with 1 Axes>"
      ]
     },
     "metadata": {
      "needs_background": "light"
     },
     "output_type": "display_data"
    }
   ],
   "source": [
    "plt.plot(my_linear_reg.coef_,'x', label = 'LinearRegression')\n",
    "plt.xlabel('Coefficient index')\n",
    "plt.ylabel('Coefficient Magnitude')\n",
    "plt.legend()"
   ]
  },
  {
   "cell_type": "markdown",
   "metadata": {},
   "source": [
    "#### Ridge Regression"
   ]
  },
  {
   "cell_type": "code",
   "execution_count": 23,
   "metadata": {},
   "outputs": [
    {
     "name": "stdout",
     "output_type": "stream",
     "text": [
      "TRAIN DATA RESULTS\n",
      "Mean Absolute Error on Train data :  2.1656396671236777\n",
      "Mean Squared Error on Train data :  9.742485553723796\n",
      "Training Set R squared score :  0.8857966585170942\n",
      "\n",
      "TEST DATA RESULTS\n",
      "Mean Absolute Error on Test data :  2.9626926001410125\n",
      "Mean Squared Error on Test data :  20.19858253926341\n",
      "Test Set R squared score :  0.7527683481744754\n"
     ]
    }
   ],
   "source": [
    "from sklearn.linear_model import Ridge\n",
    "\n",
    "my_ridge_model = Ridge().fit(X_train, y_train)\n",
    "\n",
    "my_preds_train = my_ridge_model.predict(X_train)\n",
    "my_preds_test = my_ridge_model.predict(X_test)\n",
    "\n",
    "print('TRAIN DATA RESULTS')\n",
    "print(\"Mean Absolute Error on Train data : \", mean_absolute_error(y_train, my_preds_train))\n",
    "print(\"Mean Squared Error on Train data : \", mean_squared_error(y_train, my_preds_train))\n",
    "print('Training Set R squared score : ', my_ridge_model.score(X_train, y_train))\n",
    "\n",
    "print('\\nTEST DATA RESULTS')\n",
    "print(\"Mean Absolute Error on Test data : \", mean_absolute_error(y_test, my_preds_test))\n",
    "print(\"Mean Squared Error on Test data : \", mean_squared_error(y_test, my_preds_test))\n",
    "print('Test Set R squared score : ', my_ridge_model.score(X_test, y_test))"
   ]
  },
  {
   "cell_type": "code",
   "execution_count": 24,
   "metadata": {},
   "outputs": [
    {
     "data": {
      "text/plain": [
       "<matplotlib.legend.Legend at 0x7f2d94ea1e90>"
      ]
     },
     "execution_count": 24,
     "metadata": {},
     "output_type": "execute_result"
    },
    {
     "data": {
      "image/png": "[encoded data removed]",
      "text/plain": [
       "<Figure size 432x288 with 1 Axes>"
      ]
     },
     "metadata": {
      "needs_background": "light"
     },
     "output_type": "display_data"
    }
   ],
   "source": [
    "plt.plot(my_ridge_model.coef_, '.', label ='RidgeRegression')\n",
    "plt.plot(my_linear_reg.coef_,'x', label ='LinearRegression')\n",
    "plt.xlabel('Coefficient index')\n",
    "plt.ylabel('Coefficient Magnitude')\n",
    "plt.ylim(-50,50)     # Ylimit(bottom,top)\n",
    "plt.legend()"
   ]
  },
  {
   "cell_type": "code",
   "execution_count": 26,
   "metadata": {},
   "outputs": [
    {
     "name": "stdout",
     "output_type": "stream",
     "text": [
      "TRAIN DATA RESULTS\n",
      "Mean Absolute Error on Train data :  2.0050687288446998\n",
      "Mean Squared Error on Train data :  8.211738346857969\n",
      "Training Set R squared score :  0.9037403798627095\n",
      "\n",
      "TEST DATA RESULTS\n",
      "Mean Absolute Error on Test data :  2.895860455142615\n",
      "Mean Squared Error on Test data :  18.989806220044482\n",
      "Test Set R squared score :  0.7675638302587826\n"
     ]
    }
   ],
   "source": [
    "my_ridge_model = Ridge(alpha=0.5).fit(X_train, y_train)\n",
    "\n",
    "my_preds_train = my_ridge_model.predict(X_train)\n",
    "my_preds_test = my_ridge_model.predict(X_test)\n",
    "\n",
    "print('TRAIN DATA RESULTS')\n",
    "print(\"Mean Absolute Error on Train data : \", mean_absolute_error(y_train, my_preds_train))\n",
    "print(\"Mean Squared Error on Train data : \", mean_squared_error(y_train, my_preds_train))\n",
    "print('Training Set R squared score : ', my_ridge_model.score(X_train, y_train))\n",
    "\n",
    "print('\\nTEST DATA RESULTS')\n",
    "print(\"Mean Absolute Error on Test data : \", mean_absolute_error(y_test, my_preds_test))\n",
    "print(\"Mean Squared Error on Test data : \", mean_squared_error(y_test, my_preds_test))\n",
    "print('Test Set R squared score : ', my_ridge_model.score(X_test, y_test))"
   ]
  },
  {
   "cell_type": "code",
   "execution_count": 27,
   "metadata": {},
   "outputs": [
    {
     "data": {
      "text/plain": [
       "<matplotlib.legend.Legend at 0x7f2d94e4ab50>"
      ]
     },
     "execution_count": 27,
     "metadata": {},
     "output_type": "execute_result"
    },
    {
     "data": {
      "image/png": "[encoded data removed]",
      "text/plain": [
       "<Figure size 432x288 with 1 Axes>"
      ]
     },
     "metadata": {
      "needs_background": "light"
     },
     "output_type": "display_data"
    }
   ],
   "source": [
    "plt.plot(my_ridge_model.coef_, '.', label ='RidgeRegression')\n",
    "plt.plot(my_linear_reg.coef_,'x', label ='LinearRegression')\n",
    "plt.xlabel('Coefficient index')\n",
    "plt.ylabel('Coefficient Magnitude')\n",
    "plt.ylim(-50,50)\n",
    "plt.legend()"
   ]
  },
  {
   "cell_type": "code",
   "execution_count": 29,
   "metadata": {},
   "outputs": [
    {
     "name": "stdout",
     "output_type": "stream",
     "text": [
      "TRAIN DATA RESULTS\n",
      "Mean Absolute Error on Train data :  2.378873764339877\n",
      "Mean Squared Error on Train data :  11.780499812148046\n",
      "Training Set R squared score :  0.8619066525203295\n",
      "\n",
      "TEST DATA RESULTS\n",
      "Mean Absolute Error on Test data :  3.1067811553368054\n",
      "Mean Squared Error on Test data :  22.185110982084115\n",
      "Test Set R squared score :  0.7284531415325116\n"
     ]
    }
   ],
   "source": [
    "from sklearn.linear_model import Ridge\n",
    "\n",
    "my_ridge_model = Ridge(alpha=2).fit(X_train, y_train)\n",
    "\n",
    "my_preds_train = my_ridge_model.predict(X_train)\n",
    "my_preds_test = my_ridge_model.predict(X_test)\n",
    "\n",
    "print('TRAIN DATA RESULTS')\n",
    "print(\"Mean Absolute Error on Train data : \", mean_absolute_error(y_train, my_preds_train))\n",
    "print(\"Mean Squared Error on Train data : \", mean_squared_error(y_train, my_preds_train))\n",
    "print('Training Set R squared score : ', my_ridge_model.score(X_train, y_train))\n",
    "\n",
    "print('\\nTEST DATA RESULTS')\n",
    "print(\"Mean Absolute Error on Test data : \", mean_absolute_error(y_test, my_preds_test))\n",
    "print(\"Mean Squared Error on Test data : \", mean_squared_error(y_test, my_preds_test))\n",
    "print('Test Set R squared score : ', my_ridge_model.score(X_test, y_test))"
   ]
  },
  {
   "cell_type": "code",
   "execution_count": 30,
   "metadata": {},
   "outputs": [
    {
     "data": {
      "text/plain": [
       "<matplotlib.legend.Legend at 0x7f2d94db2150>"
      ]
     },
     "execution_count": 30,
     "metadata": {},
     "output_type": "execute_result"
    },
    {
     "data": {
      "image/png": "[encoded data removed]",
      "text/plain": [
       "<Figure size 432x288 with 1 Axes>"
      ]
     },
     "metadata": {
      "needs_background": "light"
     },
     "output_type": "display_data"
    }
   ],
   "source": [
    "plt.plot(my_ridge_model.coef_, '.', label ='RidgeRegression')\n",
    "plt.plot(my_linear_reg.coef_,'x', label ='LinearRegression')\n",
    "plt.xlabel('Coefficient index')\n",
    "plt.ylabel('Coefficient Magnitude')\n",
    "plt.ylim(-50,50)\n",
    "plt.legend()"
   ]
  },
  {
   "cell_type": "markdown",
   "metadata": {},
   "source": [
    "#### Lasso Regression"
   ]
  },
  {
   "cell_type": "code",
   "execution_count": 31,
   "metadata": {},
   "outputs": [],
   "source": [
    "from sklearn.linear_model import Lasso"
   ]
  },
  {
   "cell_type": "code",
   "execution_count": 32,
   "metadata": {},
   "outputs": [
    {
     "name": "stdout",
     "output_type": "stream",
     "text": [
      "TRAIN DATA RESULTS\n",
      "Mean Absolute Error on Train data :  5.512753169106904\n",
      "Mean Squared Error on Train data :  60.29264561394445\n",
      "Training Set R squared score :  0.29323768991114607\n",
      "\n",
      "TEST DATA RESULTS\n",
      "Mean Absolute Error on Test data :  5.488898627760888\n",
      "Mean Squared Error on Test data :  64.59328142116775\n",
      "Test Set R squared score :  0.20937503255272294\n"
     ]
    }
   ],
   "source": [
    "my_lasso = Lasso().fit(X_train, y_train)\n",
    "\n",
    "my_preds_train = my_lasso.predict(X_train)\n",
    "my_preds_test = my_lasso.predict(X_test)\n",
    "\n",
    "print('TRAIN DATA RESULTS')\n",
    "print(\"Mean Absolute Error on Train data : \", mean_absolute_error(y_train, my_preds_train))\n",
    "print(\"Mean Squared Error on Train data : \", mean_squared_error(y_train, my_preds_train))\n",
    "print('Training Set R squared score : ', my_lasso.score(X_train, y_train))\n",
    "\n",
    "print('\\nTEST DATA RESULTS')\n",
    "print(\"Mean Absolute Error on Test data : \", mean_absolute_error(y_test, my_preds_test))\n",
    "print(\"Mean Squared Error on Test data : \", mean_squared_error(y_test, my_preds_test))\n",
    "print('Test Set R squared score : ', my_lasso.score(X_test, y_test))"
   ]
  },
  {
   "cell_type": "code",
   "execution_count": 33,
   "metadata": {},
   "outputs": [
    {
     "name": "stdout",
     "output_type": "stream",
     "text": [
      "TRAIN DATA RESULTS\n",
      "Mean Absolute Error on Train data :  2.0980931241271286\n",
      "Mean Squared Error on Train data :  8.86248217402341\n",
      "Training Set R squared score :  0.8961122320864716\n",
      "\n",
      "TEST DATA RESULTS\n",
      "Mean Absolute Error on Test data :  2.760201063744704\n",
      "Mean Squared Error on Test data :  18.9705467531401\n",
      "Test Set R squared score :  0.7677995670886713\n"
     ]
    },
    {
     "name": "stderr",
     "output_type": "stream",
     "text": [
      "/usr/local/lib/python3.7/site-packages/sklearn/linear_model/_coordinate_descent.py:648: ConvergenceWarning: Objective did not converge. You might want to increase the number of iterations, check the scale of the features or consider increasing regularisation. Duality gap: 4.690e+01, tolerance: 3.233e+00\n",
      "  coef_, l1_reg, l2_reg, X, y, max_iter, tol, rng, random, positive\n"
     ]
    }
   ],
   "source": [
    "my_lasso = Lasso(alpha=.01).fit(X_train, y_train)\n",
    "\n",
    "my_preds_train = my_lasso.predict(X_train)\n",
    "my_preds_test = my_lasso.predict(X_test)\n",
    "\n",
    "print('TRAIN DATA RESULTS')\n",
    "print(\"Mean Absolute Error on Train data : \", mean_absolute_error(y_train, my_preds_train))\n",
    "print(\"Mean Squared Error on Train data : \", mean_squared_error(y_train, my_preds_train))\n",
    "print('Training Set R squared score : ', my_lasso.score(X_train, y_train))\n",
    "\n",
    "print('\\nTEST DATA RESULTS')\n",
    "print(\"Mean Absolute Error on Test data : \", mean_absolute_error(y_test, my_preds_test))\n",
    "print(\"Mean Squared Error on Test data : \", mean_squared_error(y_test, my_preds_test))\n",
    "print('Test Set R squared score : ', my_lasso.score(X_test, y_test))"
   ]
  },
  {
   "cell_type": "code",
   "execution_count": 34,
   "metadata": {},
   "outputs": [
    {
     "name": "stdout",
     "output_type": "stream",
     "text": [
      "TRAIN DATA RESULTS\n",
      "Mean Absolute Error on Train data :  2.0959844813537907\n",
      "Mean Squared Error on Train data :  8.85306252207227\n",
      "Training Set R squared score :  0.8962226511086497\n",
      "\n",
      "TEST DATA RESULTS\n",
      "Mean Absolute Error on Test data :  2.7773320164164548\n",
      "Mean Squared Error on Test data :  19.14558277883676\n",
      "Test Set R squared score :  0.7656571174549982\n"
     ]
    }
   ],
   "source": [
    "my_lasso = Lasso(alpha=.01, max_iter=10000).fit(X_train, y_train)\n",
    "\n",
    "my_preds_train = my_lasso.predict(X_train)\n",
    "my_preds_test = my_lasso.predict(X_test)\n",
    "\n",
    "print('TRAIN DATA RESULTS')\n",
    "print(\"Mean Absolute Error on Train data : \", mean_absolute_error(y_train, my_preds_train))\n",
    "print(\"Mean Squared Error on Train data : \", mean_squared_error(y_train, my_preds_train))\n",
    "print('Training Set R squared score : ', my_lasso.score(X_train, y_train))\n",
    "\n",
    "print('\\nTEST DATA RESULTS')\n",
    "print(\"Mean Absolute Error on Test data : \", mean_absolute_error(y_test, my_preds_test))\n",
    "print(\"Mean Squared Error on Test data : \", mean_squared_error(y_test, my_preds_test))\n",
    "print('Test Set R squared score : ', my_lasso.score(X_test, y_test))"
   ]
  },
  {
   "cell_type": "code",
   "execution_count": 35,
   "metadata": {},
   "outputs": [
    {
     "data": {
      "text/plain": [
       "array([ -0.        ,  -0.        ,  -0.        ,   0.        ,\n",
       "        -0.        ,   0.        ,  -0.        ,  -1.43260465,\n",
       "        10.94771183,   0.        ,   0.        ,   0.        ,\n",
       "        -0.39260971,  -0.        ,  -0.        ,  -0.        ,\n",
       "         0.        ,  -0.        ,  -0.        ,  -0.        ,\n",
       "        -0.        ,  -8.75628457,  -0.        ,  -0.        ,\n",
       "        -0.        ,  -0.        ,   2.10027365,  -0.        ,\n",
       "         0.        ,  -0.        ,   0.        ,  -0.        ,\n",
       "         0.        ,   0.        ,  -0.        ,   0.        ,\n",
       "        -0.        ,  -0.        ,   0.        ,   0.        ,\n",
       "         0.        ,  -0.        ,   0.        ,  -3.96958293,\n",
       "         0.        ,   6.61845793,  -0.        ,  -0.        ,\n",
       "        -0.        ,   0.        ,  -4.42086828,  -2.10371434,\n",
       "         3.79607992,  -0.        ,   4.38591262,   0.        ,\n",
       "         0.        ,   0.1795777 ,  -0.        ,  -1.1614282 ,\n",
       "        -4.33485764,  -0.        ,  -0.        ,  -2.13549022,\n",
       "        -0.        ,  -1.85967636,  -0.        ,  -0.        ,\n",
       "        29.81957225,  -2.05624806,   0.        , -11.98034348,\n",
       "       -11.14870694, -11.67147204,  12.974385  , -10.93053676,\n",
       "        -0.        ,  -0.        ,   3.441574  ,   0.        ,\n",
       "        -0.        ,  -0.        ,  -8.56750394,   0.        ,\n",
       "         0.        ,  -0.        ,   0.        ,  -7.26115293,\n",
       "        -0.        ,   0.        ,   0.94254631,   0.        ,\n",
       "         0.        ,  -7.62603559,   1.65255854,   0.        ,\n",
       "         0.        , -17.39462971,   0.        ,   0.        ,\n",
       "        -0.        ,   0.34404124,  -8.24645566,  17.5606721 ])"
      ]
     },
     "execution_count": 35,
     "metadata": {},
     "output_type": "execute_result"
    }
   ],
   "source": [
    "my_lasso.coef_"
   ]
  },
  {
   "cell_type": "code",
   "execution_count": 38,
   "metadata": {},
   "outputs": [
    {
     "data": {
      "text/plain": [
       "33"
      ]
     },
     "execution_count": 38,
     "metadata": {},
     "output_type": "execute_result"
    }
   ],
   "source": [
    "np.sum(my_lasso.coef_!=0)"
   ]
  },
  {
   "cell_type": "code",
   "execution_count": 39,
   "metadata": {},
   "outputs": [
    {
     "name": "stdout",
     "output_type": "stream",
     "text": [
      "TRAIN DATA RESULTS\n",
      "Mean Absolute Error on Train data :  1.584355695780287\n",
      "Mean Squared Error on Train data :  4.204341704950065\n",
      "Training Set R squared score :  0.9507158754515463\n",
      "\n",
      "TEST DATA RESULTS\n",
      "Mean Absolute Error on Test data :  3.1361447728472513\n",
      "Mean Squared Error on Test data :  29.105540414791957\n",
      "Test Set R squared score :  0.6437467421272822\n"
     ]
    }
   ],
   "source": [
    "my_lasso = Lasso(alpha=.0001, max_iter=100000).fit(X_train, y_train)\n",
    "\n",
    "my_preds_train = my_lasso.predict(X_train)\n",
    "my_preds_test = my_lasso.predict(X_test)\n",
    "\n",
    "print('TRAIN DATA RESULTS')\n",
    "print(\"Mean Absolute Error on Train data : \", mean_absolute_error(y_train, my_preds_train))\n",
    "print(\"Mean Squared Error on Train data : \", mean_squared_error(y_train, my_preds_train))\n",
    "print('Training Set R squared score : ', my_lasso.score(X_train, y_train))\n",
    "\n",
    "print('\\nTEST DATA RESULTS')\n",
    "print(\"Mean Absolute Error on Test data : \", mean_absolute_error(y_test, my_preds_test))\n",
    "print(\"Mean Squared Error on Test data : \", mean_squared_error(y_test, my_preds_test))\n",
    "print('Test Set R squared score : ', my_lasso.score(X_test, y_test))"
   ]
  },
  {
   "cell_type": "code",
   "execution_count": 40,
   "metadata": {},
   "outputs": [],
   "source": [
    "from sklearn.linear_model import ElasticNet"
   ]
  },
  {
   "cell_type": "code",
   "execution_count": 41,
   "metadata": {},
   "outputs": [
    {
     "name": "stdout",
     "output_type": "stream",
     "text": [
      "TRAIN DATA RESULTS\n",
      "Mean Absolute Error on Train data :  2.4253498365524946\n",
      "Mean Squared Error on Train data :  12.338422737115776\n",
      "Training Set R squared score :  0.8553665697077995\n",
      "\n",
      "TEST DATA RESULTS\n",
      "Mean Absolute Error on Test data :  3.1206032330114053\n",
      "Mean Squared Error on Test data :  22.801753811315475\n",
      "Test Set R squared score :  0.7209054027265394\n"
     ]
    }
   ],
   "source": [
    "my_ElasticNet = ElasticNet(alpha=0.01).fit(X_train, y_train)\n",
    "\n",
    "my_preds_train = my_ElasticNet.predict(X_train)\n",
    "my_preds_test = my_ElasticNet.predict(X_test)\n",
    "\n",
    "print('TRAIN DATA RESULTS')\n",
    "print(\"Mean Absolute Error on Train data : \", mean_absolute_error(y_train, my_preds_train))\n",
    "print(\"Mean Squared Error on Train data : \", mean_squared_error(y_train, my_preds_train))\n",
    "print('Training Set R squared score : ', my_ElasticNet.score(X_train, y_train))\n",
    "\n",
    "print('\\nTEST DATA RESULTS')\n",
    "print(\"Mean Absolute Error on Test data : \", mean_absolute_error(y_test, my_preds_test))\n",
    "print(\"Mean Squared Error on Test data : \", mean_squared_error(y_test, my_preds_test))\n",
    "print('Test Set R squared score : ', my_ElasticNet.score(X_test, y_test))"
   ]
  },
  {
   "cell_type": "code",
   "execution_count": 43,
   "metadata": {},
   "outputs": [],
   "source": [
    "from sklearn.model_selection import GridSearchCV"
   ]
  },
  {
   "cell_type": "code",
   "execution_count": 44,
   "metadata": {},
   "outputs": [
    {
     "name": "stderr",
     "output_type": "stream",
     "text": [
      "/usr/local/lib/python3.7/site-packages/sklearn/linear_model/_coordinate_descent.py:648: ConvergenceWarning: Objective did not converge. You might want to increase the number of iterations, check the scale of the features or consider increasing regularisation. Duality gap: 9.996e+02, tolerance: 2.589e+00\n",
      "  coef_, l1_reg, l2_reg, X, y, max_iter, tol, rng, random, positive\n",
      "/usr/local/lib/python3.7/site-packages/sklearn/linear_model/_coordinate_descent.py:648: ConvergenceWarning: Objective did not converge. You might want to increase the number of iterations, check the scale of the features or consider increasing regularisation. Duality gap: 9.999e+02, tolerance: 2.840e+00\n",
      "  coef_, l1_reg, l2_reg, X, y, max_iter, tol, rng, random, positive\n",
      "/usr/local/lib/python3.7/site-packages/sklearn/linear_model/_coordinate_descent.py:648: ConvergenceWarning: Objective did not converge. You might want to increase the number of iterations, check the scale of the features or consider increasing regularisation. Duality gap: 1.048e+03, tolerance: 2.534e+00\n",
      "  coef_, l1_reg, l2_reg, X, y, max_iter, tol, rng, random, positive\n",
      "/usr/local/lib/python3.7/site-packages/sklearn/linear_model/_coordinate_descent.py:648: ConvergenceWarning: Objective did not converge. You might want to increase the number of iterations, check the scale of the features or consider increasing regularisation. Duality gap: 8.863e+02, tolerance: 2.339e+00\n",
      "  coef_, l1_reg, l2_reg, X, y, max_iter, tol, rng, random, positive\n",
      "/usr/local/lib/python3.7/site-packages/sklearn/linear_model/_coordinate_descent.py:648: ConvergenceWarning: Objective did not converge. You might want to increase the number of iterations, check the scale of the features or consider increasing regularisation. Duality gap: 1.093e+03, tolerance: 2.618e+00\n",
      "  coef_, l1_reg, l2_reg, X, y, max_iter, tol, rng, random, positive\n",
      "/usr/local/lib/python3.7/site-packages/sklearn/linear_model/_coordinate_descent.py:648: ConvergenceWarning: Objective did not converge. You might want to increase the number of iterations, check the scale of the features or consider increasing regularisation. Duality gap: 1.339e+03, tolerance: 3.233e+00\n",
      "  coef_, l1_reg, l2_reg, X, y, max_iter, tol, rng, random, positive\n"
     ]
    },
    {
     "data": {
      "text/plain": [
       "GridSearchCV(estimator=ElasticNet(alpha=0.01),\n",
       "             param_grid={'alpha': [0.001, 0.01, 0.1, 0.2, 0.5, 0.8, 1, 5, 10],\n",
       "                         'max_iter': [1500, 10000, 100000]})"
      ]
     },
     "execution_count": 44,
     "metadata": {},
     "output_type": "execute_result"
    }
   ],
   "source": [
    "params = {'alpha':[0.001, 0.01, 0.1, 0.2, 0.5, 0.8, 1, 5, 10], 'max_iter':[1500, 10000, 100000]}\n",
    "grid_search = GridSearchCV(my_ElasticNet, params)\n",
    "grid_search.fit(X_train, y_train)"
   ]
  },
  {
   "cell_type": "code",
   "execution_count": 45,
   "metadata": {},
   "outputs": [
    {
     "data": {
      "text/plain": [
       "{'alpha': 0.001, 'max_iter': 1500}"
      ]
     },
     "execution_count": 45,
     "metadata": {},
     "output_type": "execute_result"
    }
   ],
   "source": [
    "grid_search.best_params_"
   ]
  },
  {
   "cell_type": "code",
   "execution_count": 46,
   "metadata": {},
   "outputs": [
    {
     "name": "stdout",
     "output_type": "stream",
     "text": [
      "TRAIN DATA RESULTS\n",
      "Mean Absolute Error on Train data :  1.8835362642637086\n",
      "Mean Squared Error on Train data :  6.968661289977286\n",
      "Training Set R squared score :  0.9183119748457012\n",
      "\n",
      "TEST DATA RESULTS\n",
      "Mean Absolute Error on Test data :  2.9119869621231875\n",
      "Mean Squared Error on Test data :  18.570690778245716\n",
      "Test Set R squared score :  0.7726938240482019\n"
     ]
    }
   ],
   "source": [
    "my_preds_train = grid_search.predict(X_train)\n",
    "my_preds_test = grid_search.predict(X_test)\n",
    "\n",
    "print('TRAIN DATA RESULTS')\n",
    "print(\"Mean Absolute Error on Train data : \", mean_absolute_error(y_train, my_preds_train))\n",
    "print(\"Mean Squared Error on Train data : \", mean_squared_error(y_train, my_preds_train))\n",
    "print('Training Set R squared score : ', grid_search.score(X_train, y_train))\n",
    "\n",
    "print('\\nTEST DATA RESULTS')\n",
    "print(\"Mean Absolute Error on Test data : \", mean_absolute_error(y_test, my_preds_test))\n",
    "print(\"Mean Squared Error on Test data : \", mean_squared_error(y_test, my_preds_test))\n",
    "print('Test Set R squared score : ', grid_search.score(X_test, y_test))"
   ]
  },
  {
   "cell_type": "code",
   "execution_count": null,
   "metadata": {},
   "outputs": [],
   "source": []
  }
 ],
 "metadata": {
  "kernelspec": {
   "display_name": "Python 3",
   "language": "python",
   "name": "python3"
  },
  "language_info": {
   "codemirror_mode": {
    "name": "ipython",
    "version": 3
   },
   "file_extension": ".py",
   "mimetype": "text/x-python",
   "name": "python",
   "nbconvert_exporter": "python",
   "pygments_lexer": "ipython3",
   "version": "3.7.6"
  }
 },
 "nbformat": 4,
 "nbformat_minor": 4
}
